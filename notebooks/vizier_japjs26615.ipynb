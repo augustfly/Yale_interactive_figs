{
 "cells": [
  {
   "cell_type": "markdown",
   "id": "940afc94-40e0-4e15-aef0-9dc9726a4afd",
   "metadata": {},
   "source": [
    "# Reproducing plots as interactive figures (w/Vizier)\n",
    "## The Lyα Reference Sample. XIV. Lyα Imaging of 45 Low-redshift Star-forming Galaxies and Inferences on Global Emission\n",
    "- Published 2023 May 9 • © 2023. The Author(s). Published by the American Astronomical Society.\n",
    "- The Astrophysical Journal Supplement Series, Volume 269, Number 2\n",
    "- Citation Jens Melinder et al 2023 ApJS 266 15\n",
    "- [https://doi.org/10.3847/1538-4365/acc2b8](https://doi.org/10.3847/1538-4365/acc2b8)\n",
    "- Vizier ingested all the tables from this article:   [J/ApJS/266/15](https://doi.org/10.26093/cds/vizier.22660015)\n",
    "- And provides [notebooks](https://cdsarc.cds.unistra.fr/vizier/notebook.gml?source=J/ApJS/266/15) for downloading and interacting with the data.\n",
    "- This reproduction starts with their original notebook."
   ]
  },
  {
   "cell_type": "code",
   "execution_count": 1,
   "id": "a6eaeebf",
   "metadata": {},
   "outputs": [],
   "source": [
    "# Access astronomical databases\n",
    "from pyvo import registry  # version >=1.4.1 \n",
    "\n",
    "# Moc and HEALPix tools\n",
    "from mocpy import MOC\n",
    "\n",
    "# Sky visualization\n",
    "from ipyaladin import Aladin\n",
    "\n",
    "# For plots\n",
    "import matplotlib.pyplot as plt"
   ]
  },
  {
   "cell_type": "code",
   "execution_count": 2,
   "id": "28bbce37-3d03-4b73-a98b-30e3c95c7cf4",
   "metadata": {},
   "outputs": [],
   "source": [
    "# Plotly setup\n",
    "# Tend to stick with \"graphical objects\" rather than express or Dash\n",
    "\n",
    "import plotly.graph_objects as go\n",
    "from plotly.offline import init_notebook_mode, iplot\n",
    "import plotly.figure_factory as ff\n"
   ]
  },
  {
   "cell_type": "markdown",
   "id": "7ad7861f",
   "metadata": {},
   "source": [
    "# Welcome to VizieR example workflow\n",
    "\n",
    "[![Vizier](https://custom-icon-badges.demolab.com/badge/Vizier-gray.svg?logo=vizier&logoColor=orange&logoWidth=20)](https://vizier.cds.unistra.fr/viz-bin/VizieR \"https://vizier.cds.unistra.fr/viz-bin/VizieR\")\n",
    "\n",
    "It is a generic notebook, highlighting what can be done once you chose a catalog. This workflow is suggested by [CDS](https://cdsweb.unistra.fr/) (Strasbourg Astronomical Data Center, house of [VizieR](https://vizier.cds.unistra.fr/viz-bin/VizieR)).\n",
    "\n",
    "--------------------------------------------------------\n",
    "\n",
    "Modify the <a href='https://vizier.cds.unistra.fr/'>VizieR catalogue</a> name (variable <b>CATALOGUE</b>) and anything else you might feel like exploring!\n",
    "\n",
    "## 1. Setup\n",
    "\n",
    "This example notebook has the following dependencies: \n",
    "\n",
    "**Required**\n",
    "- pyvo : this library facilitates the access to the Virtual Observatory (VO) resources. VizieR is part of the VO.\n",
    "This notebook needs version >=1.4.1\n",
    "\n",
    "**Optional, for visualization**\n",
    "- ipyaladin : this is the Aladin-lite sky viewer, bundled as a jupyter widget. It allows to plot catalogs and multi-order coverages (MOC)\n",
    "- matplotlib : an other option to see catalog points and MOCs\n",
    "\n",
    "## 2. Metadata exploration with the Virtual Observatory registry\n",
    "\n",
    "This part uses [pyvo](https://pyvo.readthedocs.io/en) to connect to the VO registry."
   ]
  },
  {
   "cell_type": "code",
   "execution_count": 3,
   "id": "95888801",
   "metadata": {},
   "outputs": [],
   "source": [
    "# the catalogue name in VizieR\n",
    "CATALOGUE = \"J/ApJS/266/15\""
   ]
  },
  {
   "cell_type": "markdown",
   "id": "26ad3c69",
   "metadata": {},
   "source": [
    "We first retrieve catalogue information."
   ]
  },
  {
   "cell_type": "code",
   "execution_count": 4,
   "id": "6db57e6b",
   "metadata": {},
   "outputs": [],
   "source": [
    "# each resource in the VO has an identifier, called ivoid. For vizier catalogs,\n",
    "# the VO ids can be constructed like this:\n",
    "catalogue_ivoid = f\"ivo://CDS.VizieR/{CATALOGUE}\"\n",
    "# the actual query to the registry\n",
    "voresource = registry.search(ivoid=catalogue_ivoid)[0]"
   ]
  },
  {
   "cell_type": "code",
   "execution_count": 5,
   "id": "f3e975e3",
   "metadata": {},
   "outputs": [
    {
     "name": "stdout",
     "output_type": "stream",
     "text": [
      "The Ly{alpha} Reference Sample (LARS). XIV.\n",
      "Short Name: J/ApJS/266/15\n",
      "IVOA Identifier: ivo://cds.vizier/j/apjs/266/15\n",
      "Access modes: conesearch, tap#aux, web\n",
      "Multi-capability service -- use get_service()\n",
      "\n",
      "We present Ly{alpha} imaging of 45 low-redshift star-forming galaxies observed\n",
      "with the Hubble Space Telescope. The galaxies have been selected to have\n",
      "moderate to high star formation rates (SFRs) using far-ultraviolet (FUV)\n",
      "luminosity and H{alpha} equivalent width criteria, but no constraints on\n",
      "Ly{alpha} luminosity. We employ a pixel stellar continuum fitting code to\n",
      "obtain accurate continuum-subtracted Ly{alpha}, H{alpha}, and H{beta} maps. We\n",
      "find that Ly{alpha} is less concentrated than FUV and optical line emission in\n",
      "almost all galaxies with significant Ly{alpha} emission. We present global\n",
      "measurements of Ly{alpha} and other quantities measured in apertures designed\n",
      "to capture all of the Ly{alpha} emission. We then show how the escape fraction\n",
      "of Ly{alpha} relates to a number of other measured quantities (mass,\n",
      "metallicity, star formation, ionization parameter, and extinction). We find\n",
      "that the escape fraction is strongly anticorrelated with nebular and stellar\n",
      "extinction, weakly anticorrelated with stellar mass, but no conclusive\n",
      "evidence for correlations with other quantities. We show that Ly{alpha} escape\n",
      "fractions are inconsistent with common dust extinction laws, and discuss how a\n",
      "combination of radiative transfer effects and clumpy dust models can help\n",
      "resolve the discrepancies. We present an SFR calibration based on Ly{alpha}\n",
      "luminosity, where the equivalent width of Ly{alpha} is used to correct for\n",
      "nonunity escape fraction, and show that this relation provides a reasonably\n",
      "accurate SFR estimate. We also show stacked growth curves of Ly{alpha} for the\n",
      "galaxies that can be used to find aperture loss fractions at a given physical\n",
      "radius.\n",
      "\n",
      "Waveband Coverage: uv, optical\n",
      "\n",
      "Source: 2023ApJS..266...15M\n",
      "Authors: Melinder J.,  Ostlin G.,  Hayes M.,  Rasekh A.,  Mas-Hesse J.M. et al.\n",
      "See creators attribute for the complete list of authors.\n",
      "More info: https://cdsarc.cds.unistra.fr/viz-bin/cat/J/ApJS/266/15\n"
     ]
    }
   ],
   "source": [
    "# We can print metadata information about the catalogue\n",
    "voresource.describe(verbose=True)"
   ]
  },
  {
   "cell_type": "markdown",
   "id": "bd2a7ae3",
   "metadata": {},
   "source": [
    "We can also inspect in details the `resource` object and access the attributes not provided by the describe method. See for example, the first author of a resource: "
   ]
  },
  {
   "cell_type": "code",
   "execution_count": 6,
   "id": "f5a53605",
   "metadata": {},
   "outputs": [
    {
     "data": {
      "text/plain": [
       "'Melinder J.'"
      ]
     },
     "execution_count": 6,
     "metadata": {},
     "output_type": "execute_result"
    }
   ],
   "source": [
    "voresource.creators[0]"
   ]
  },
  {
   "cell_type": "markdown",
   "id": "5a457510",
   "metadata": {},
   "source": [
    "## 3. Access the tabular data of this catalog\n",
    "\n",
    "We can have a look at the tables available in the catalogue.\n",
    "> Note that Vizier merged Tables 1,2,4-7 into one large catalog, \"galaxies\""
   ]
  },
  {
   "cell_type": "code",
   "execution_count": 7,
   "id": "92ebe10f",
   "metadata": {},
   "outputs": [
    {
     "name": "stderr",
     "output_type": "stream",
     "text": [
      "WARNING: W02: ?:?:?: W02: '' is not a valid datatype according to the VOSI spec [pyvo.io.vosi.vodataservice]\n"
     ]
    },
    {
     "data": {
      "text/plain": [
       "{'J/ApJS/266/15/galaxies': <VODataServiceTable name=\"J/ApJS/266/15/galaxies\">... 93 columns ...</VODataServiceTable>,\n",
       " 'J/ApJS/266/15/table8': <VODataServiceTable name=\"J/ApJS/266/15/table8\">... 23 columns ...</VODataServiceTable>}"
      ]
     },
     "execution_count": 7,
     "metadata": {},
     "output_type": "execute_result"
    }
   ],
   "source": [
    "tables = voresource.get_tables()\n",
    "tables"
   ]
  },
  {
   "cell_type": "code",
   "execution_count": 8,
   "id": "81514878",
   "metadata": {},
   "outputs": [
    {
     "data": {
      "text/plain": [
       "['J/ApJS/266/15/galaxies', 'J/ApJS/266/15/table8']"
      ]
     },
     "execution_count": 8,
     "metadata": {},
     "output_type": "execute_result"
    }
   ],
   "source": [
    "# We can also extract the tables names for later use\n",
    "tables_names = list(tables.keys())\n",
    "tables_names"
   ]
  },
  {
   "cell_type": "markdown",
   "id": "eedac527",
   "metadata": {},
   "source": [
    "The actual data can then be access using any of the ``access_modes`` of the voresource."
   ]
  },
  {
   "cell_type": "code",
   "execution_count": 9,
   "id": "32db444e",
   "metadata": {},
   "outputs": [
    {
     "data": {
      "text/plain": [
       "{'conesearch', 'tap#aux', 'web'}"
      ]
     },
     "execution_count": 9,
     "metadata": {},
     "output_type": "execute_result"
    }
   ],
   "source": [
    "voresource.access_modes()"
   ]
  },
  {
   "cell_type": "markdown",
   "id": "4a7dd42f",
   "metadata": {},
   "source": [
    "The web access is found by following the ``reference_url``"
   ]
  },
  {
   "cell_type": "code",
   "execution_count": 10,
   "id": "545f9bf8",
   "metadata": {},
   "outputs": [
    {
     "data": {
      "text/plain": [
       "'https://cdsarc.cds.unistra.fr/viz-bin/cat/J/ApJS/266/15'"
      ]
     },
     "execution_count": 10,
     "metadata": {},
     "output_type": "execute_result"
    }
   ],
   "source": [
    "voresource.reference_url"
   ]
  },
  {
   "cell_type": "markdown",
   "id": "abee6ce7",
   "metadata": {},
   "source": [
    "### 3.1 Execute a SQL/ADQL query\n",
    "\n",
    "The ``tap#aux`` in the ``access_mode`` response indicates that we can also do a SQL/ADQL query for these VizieR tables.\n",
    "\n",
    "On the first table of the catalogue, we execute an <a href='https://www.ivoa.net/documents/latest/ADQL.html'>ADQL</a> query."
   ]
  },
  {
   "cell_type": "code",
   "execution_count": 11,
   "id": "3a8b8d60",
   "metadata": {},
   "outputs": [
    {
     "data": {
      "text/plain": [
       "<DALResultsTable length=10>\n",
       "recno  Nsb    ID           SDSS         zspec  r_zspec  EWHa  ...      FUV                      Opt                 PapXI        SimbadName           _RA      _DE   \n",
       "                                                       0.1 nm ...                                                                                     deg      deg   \n",
       "int32 int16 object        object       float64   str1  int16  ...     object                   object               int16          object           float64  float64 \n",
       "----- ----- ------ ------------------- ------- ------- ------ ... -------------- ---------------------------------- ----- ------------------------ --------- --------\n",
       "    1    30 LARS01 J132844.05+435550.5   0.028            560 ... F140LP, F150LP UVIS/F336W, UVIS/F438W, UVIS/F775W     1 SDSS J132844.05+435550.5 202.18356 43.93069\n",
       "    2    30 LARS02 J090704.88+532656.6    0.03            312 ... F140LP, F150LP UVIS/F336W, UVIS/F438W, UVIS/F775W     1 SDSS J090704.88+532656.6 136.77036 53.44905\n",
       "    3    30 LARS03 J131535.06+620728.6   0.031            238 ... F140LP, F150LP   UVIS/F336W, WFC/F435W, WFC/F814W     1 SDSS J131535.06+620728.6 198.89626 62.12456\n",
       "    4    30 LARS04 J130728.45+542652.3   0.033            234 ... F140LP, F150LP UVIS/F336W, UVIS/F438W, UVIS/F775W     1 SDSS J130728.45+542652.3 196.86853 54.44792\n",
       "    5    30 LARS05 J135950.92+572622.9   0.034            333 ... F140LP, F150LP UVIS/F336W, UVIS/F438W, UVIS/F775W     1 SDSS J135950.92+572622.9  209.9621 57.43972\n",
       "    6    30 LARS06 J154544.52+441551.8   0.034            455 ... F140LP, F150LP UVIS/F336W, UVIS/F438W, UVIS/F775W     1 SDSS J154544.52+441551.8 236.43559 44.26445\n",
       "    7    30 LARS07 J131603.91+292254.0   0.038            423 ... F140LP, F150LP UVIS/F336W, UVIS/F438W, UVIS/F775W     1 SDSS J131603.91+292254.0 199.01631 29.38168\n",
       "    8    30 LARS08 J125013.50+073441.5   0.038            167 ... F140LP, F150LP UVIS/F336W, UVIS/F438W, UVIS/F775W     0 SDSS J125013.50+073441.5 192.55627  7.57821\n",
       "    9    30 LARS09 J082354.96+280621.6   0.047            505 ... F140LP, F150LP UVIS/F336W, UVIS/F438W, UVIS/F775W     1 SDSS J082354.96+280621.6 125.97903 28.10599\n",
       "   10    30 LARS10 J130141.52+292252.8   0.057             99 ... F140LP, F150LP UVIS/F336W, UVIS/F438W, UVIS/F775W     1 SDSS J130141.52+292252.8 195.42309 29.38132"
      ]
     },
     "execution_count": 11,
     "metadata": {},
     "output_type": "execute_result"
    }
   ],
   "source": [
    "# get the first table of the catalogue\n",
    "first_table_name = tables_names[0]\n",
    "\n",
    "# execute a synchronous ADQL query \n",
    "# this also happens to be the same list of objects in Figure 2 of the article, LARS 001-004\n",
    "tap_service = voresource.get_service(\"tap\")\n",
    "tap_records = voresource.get_service(\"tap\").run_sync(\n",
    "    f'select TOP 10 * from \"{first_table_name}\"',\n",
    ")\n",
    "tap_records"
   ]
  },
  {
   "cell_type": "code",
   "execution_count": 12,
   "id": "2fd9a564-37f7-4edc-82ed-4251c7c69b62",
   "metadata": {},
   "outputs": [
    {
     "name": "stderr",
     "output_type": "stream",
     "text": [
      "WARNING: AstropyDeprecationWarning: Using the table property is deprecated. Please use the to_table() instead. [pyvo.dal.query]\n"
     ]
    },
    {
     "data": {
      "text/plain": [
       "{'ID': 'result_S1708437460671', 'name': 'result_S1708437460671'}"
      ]
     },
     "execution_count": 12,
     "metadata": {},
     "output_type": "execute_result"
    }
   ],
   "source": [
    "tap_records.table.meta"
   ]
  },
  {
   "cell_type": "markdown",
   "id": "80157f1b",
   "metadata": {},
   "source": [
    "<!-- section position -->\n",
    "\n",
    "We will explore the other access modes here.\n",
    "\n",
    "### 3.2. Execute a cone search query\n",
    "\n",
    "We use the Simple Cone Search (<a href='https://www.ivoa.net/documents/latest/ConeSearch.html'>SCS</a>) protocol of the virtual observatory (only available for tables with positions).\n",
    "\n",
    "Adapt the radius and position of the center to your needs."
   ]
  },
  {
   "cell_type": "code",
   "execution_count": 13,
   "id": "9c678dd4",
   "metadata": {},
   "outputs": [],
   "source": [
    "conesearch_radius =  90.  # in degrees\n",
    "conesearch_center = (125.99121093749999, 28.101088898358825)"
   ]
  },
  {
   "cell_type": "code",
   "execution_count": 14,
   "id": "8f34d3fd",
   "metadata": {},
   "outputs": [
    {
     "data": {
      "text/plain": [
       "<DALResultsTable length=44>\n",
       "    _r    recno  Nsb     ID           SDSS         zspec  r_zspec  EWHa  ... PapXI Prof        SimbadName        NED  LEDA    _RA       _DE   \n",
       "                                                                  0.1 nm ...                                                  deg       deg   \n",
       " float64  int32 int16   str7         str19        float32   str1  int16  ... int16 str4          str24           str3 str4  float64   float64 \n",
       "--------- ----- ----- ------- ------------------- ------- ------- ------ ... ----- ---- ------------------------ ---- ---- --------- ---------\n",
       "61.418225     1    30  LARS01 J132844.05+435550.5   0.028            560 ...     1 Prof SDSS J132844.05+435550.5  NED LEDA 202.18356  43.93069\n",
       "26.561471     2    30  LARS02 J090704.88+532656.6   0.030            312 ...     1 Prof SDSS J090704.88+532656.6  NED LEDA 136.77036  53.44905\n",
       "57.478833     3    30  LARS03 J131535.06+620728.6   0.031            238 ...     1 Prof SDSS J131535.06+620728.6  NED LEDA 198.89626  62.12456\n",
       "56.547521     4    30  LARS04 J130728.45+542652.3   0.033            234 ...     1 Prof SDSS J130728.45+542652.3  NED LEDA 196.86853  54.44792\n",
       "63.457649     5    30  LARS05 J135950.92+572622.9   0.034            333 ...     1 Prof SDSS J135950.92+572622.9  NED LEDA 209.96210  57.43972\n",
       "83.793610     6    30  LARS06 J154544.52+441551.8   0.034            455 ...     1 Prof SDSS J154544.52+441551.8  NED LEDA 236.43559  44.26445\n",
       "62.902345     7    30  LARS07 J131603.91+292254.0   0.038            423 ...     1 Prof SDSS J131603.91+292254.0  NED LEDA 199.01631  29.38168\n",
       "65.802720     8    30  LARS08 J125013.50+073441.5   0.038            167 ...     0 Prof SDSS J125013.50+073441.5  NED LEDA 192.55627   7.57821\n",
       " 0.011810     9    30  LARS09 J082354.96+280621.6   0.047            505 ...     1 Prof SDSS J082354.96+280621.6  NED LEDA 125.97903  28.10599\n",
       "59.924533    10    30  LARS10 J130141.52+292252.8   0.057             99 ...     1 Prof SDSS J130141.52+292252.8  NED LEDA 195.42309  29.38132\n",
       "82.521975    11    30  LARS11 J140347.22+062812.1   0.084            105 ...     0 Prof SDSS J140347.22+062812.1  NED LEDA 210.94682   6.47007\n",
       "29.628170    12    30  LARS12 J093813.44+542824.9   0.102            408 ...     1 Prof SDSS J093813.44+542824.9  NED LEDA 144.55621  54.47360\n",
       "      ...   ...   ...     ...                 ...     ...     ...    ... ...   ...  ...                      ...  ...  ...       ...       ...\n",
       "47.941331    33    30 ELARS19 J120506.35+563330.9   0.031            133 ...     0 Prof SDSS J120506.35+563330.9  NED LEDA 181.27649  56.55858\n",
       "60.232963    34    30 ELARS20 J133858.25+614957.6   0.031             73 ...     0 Prof SDSS J133858.25+614957.6  NED LEDA 204.74232  61.83310\n",
       "64.070860    35    30 ELARS21 J141911.37+654946.3   0.033             61 ...     0 Prof SDSS J141911.37+654946.3  NED LEDA 214.79740  65.82953\n",
       "82.676779    36    30 ELARS22 J170912.73+604950.0   0.047            153 ...     0 Prof SDSS J170912.73+604950.0  NED LEDA 257.30310  60.83058\n",
       "67.841626    37    30 ELARS23 J144827.20+630210.4   0.051             49 ...     0 Prof SDSS J144827.20+630210.4  NED LEDA 222.11334  63.03623\n",
       "67.795814    38    30 ELARS24 J144305.31+611838.6   0.048             83 ...     0 Prof SDSS J144305.31+611838.6  NED LEDA 220.77218  61.31071\n",
       "37.253104    39    30 ELARS25 J101201.93+603720.3   0.045             56 ...     0 Prof SDSS J101201.93+603720.3  NED LEDA 153.00806  60.62231\n",
       "49.559141    40    30 ELARS26 J115241.69+661827.2   0.046             43 ...     0 Prof SDSS J115241.69+661827.2  NED LEDA 178.17389  66.30764\n",
       "69.626255    41    30 ELARS27 J150247.62+622018.9   0.045             47 ...     0 Prof SDSS J150247.62+622018.9  NED LEDA 225.69845  62.33860\n",
       "46.912629    42    30 ELARS28 J115218.74+585657.0   0.046            131 ...     0 Prof SDSS J115218.74+585657.0  NED LEDA 178.07823  58.94920\n",
       "79.203554    43    30 Tol1214                       0.026       b   1644 ...     0 Prof          Tololo 1214-277  NED LEDA 184.32122 -28.04241\n",
       "82.359594    44    30 Tol1247                       0.049       d    530 ...     0 Prof          Tololo 1247-232  NED LEDA 192.57875 -23.56600\n",
       "45.513948    45    30   J1156 J115630.63+500822.1   0.236            323 ...     0 Prof SDSS J115630.63+500822.1  NED LEDA 179.12763  50.13949"
      ]
     },
     "execution_count": 14,
     "metadata": {},
     "output_type": "execute_result"
    }
   ],
   "source": [
    "conesearch_records = voresource.get_service(\"conesearch\").search(\n",
    "    pos=conesearch_center,\n",
    "    sr=conesearch_radius,\n",
    ")\n",
    "conesearch_records"
   ]
  },
  {
   "cell_type": "markdown",
   "id": "d1df2200",
   "metadata": {},
   "source": [
    "## 4. Get the catalogue coverage\n",
    "\n",
    "VizieR also provides the coverage of each catalogue with Multiple Order Coverage (<a href='https://ivoa.net/documents/MOC/'>MOC</a>) at order 10 -- meaning with a 0.001 rad spacial resolution."
   ]
  },
  {
   "cell_type": "markdown",
   "id": "adad9fc7",
   "metadata": {},
   "source": [
    "or with ipyaladin"
   ]
  },
  {
   "cell_type": "code",
   "execution_count": 15,
   "id": "53840a2b",
   "metadata": {},
   "outputs": [
    {
     "data": {
      "application/vnd.jupyter.widget-view+json": {
       "model_id": "f7e0675275cd4145b292af0e802efec9",
       "version_major": 2,
       "version_minor": 0
      },
      "text/plain": [
       "Aladin(options=['allow_full_zoomout', 'coo_frame', 'fov', 'full_screen', 'log', 'overlay_survey', 'overlay_sur…"
      ]
     },
     "execution_count": 15,
     "metadata": {},
     "output_type": "execute_result"
    }
   ],
   "source": [
    "aladin = Aladin()\n",
    "aladin"
   ]
  },
  {
   "cell_type": "markdown",
   "id": "de738e90-b34b-4818-a6e6-2d07c9b4c2c2",
   "metadata": {},
   "source": [
    "We can add the tables and coverage in this ipyaladin window."
   ]
  },
  {
   "cell_type": "code",
   "execution_count": 16,
   "id": "52e6635c-2500-4c49-930b-35a08b36caa0",
   "metadata": {},
   "outputs": [
    {
     "name": "stdout",
     "output_type": "stream",
     "text": [
      "{'ID': 'J_ApJS_266_15_galaxies', 'name': 'J/ApJS/266/15/galaxies', 'description': 'characteristics (Table 1), SDSS derived properties (Table 2), Size measurements (Table 4), Global Ly{alpha}, H{alpha}, and FUV measurements (Table 5), Derived properties (Table 6) and HST imaging for individual galaxies (Table 7)'}\n"
     ]
    }
   ],
   "source": [
    "conesearch = conesearch_records.to_table()\n",
    "print(conesearch.meta)\n",
    "aladin.add_table(conesearch)"
   ]
  },
  {
   "cell_type": "code",
   "execution_count": 17,
   "id": "3f55e7d1-bf38-4b7d-a73b-567f9b256f85",
   "metadata": {},
   "outputs": [
    {
     "name": "stdout",
     "output_type": "stream",
     "text": [
      "{'ID': 'result_S1708437460671', 'name': 'result_S1708437460671'}\n"
     ]
    }
   ],
   "source": [
    "fig2sources = tap_records.to_table()\n",
    "print(fig2sources.meta)\n",
    "aladin.add_table(fig2sources)"
   ]
  },
  {
   "attachments": {},
   "cell_type": "markdown",
   "id": "af9ad741-6751-4339-8c24-339dbae1c22b",
   "metadata": {},
   "source": [
    "Make some plots. Let's try Figure 13"
   ]
  },
  {
   "cell_type": "code",
   "execution_count": null,
   "id": "327d6303-1c44-4cc5-917d-1004b08a822c",
   "metadata": {},
   "outputs": [],
   "source": []
  }
 ],
 "metadata": {
  "kernelspec": {
   "display_name": "Python 3 (ipykernel)",
   "language": "python",
   "name": "python3"
  },
  "language_info": {
   "codemirror_mode": {
    "name": "ipython",
    "version": 3
   },
   "file_extension": ".py",
   "mimetype": "text/x-python",
   "name": "python",
   "nbconvert_exporter": "python",
   "pygments_lexer": "ipython3",
   "version": "3.11.7"
  },
  "widgets": {
   "application/vnd.jupyter.widget-state+json": {
    "state": {
     "614c056f9da546e99e13516067d84b51": {
      "model_module": "ipyaladin",
      "model_module_version": "^0.2.5",
      "model_name": "AladinModel",
      "state": {
       "_model_module_version": "^0.2.5",
       "_view_module_version": "^0.2.5",
       "allow_full_zoomout": false,
       "color_map_flag": true,
       "color_map_name": "",
       "coo_frame": "J2000",
       "fov": 0.40402,
       "full_screen": false,
       "height": 400,
       "layout": "IPY_MODEL_b614942c85f143f29cb69fd61d31fc08",
       "listener_flag": true,
       "listener_type": "",
       "log": true,
       "moc_URL": "https://cdsarc.cds.unistra.fr/viz-bin/moc/J/AJ/157/229",
       "moc_dict": {},
       "moc_from_URL_flag": false,
       "moc_from_dict_flag": true,
       "moc_options": {
        "color": "pink",
        "opacity": 0.5
       },
       "options": [
        "allow_full_zoomout",
        "coo_frame",
        "fov",
        "full_screen",
        "log",
        "overlay_survey",
        "overlay_survey_opacity",
        "reticle_color",
        "reticle_size",
        "show_catalog",
        "show_context_menu",
        "show_coo_grid",
        "show_frame",
        "show_fullscreen_control",
        "show_goto_control",
        "show_layers_control",
        "show_reticle",
        "show_share_control",
        "show_simbad_pointer_control",
        "show_zoom_control",
        "survey",
        "target"
       ],
       "overlay_from_stcs_flag": true,
       "overlay_options": {},
       "overlay_survey": "",
       "overlay_survey_opacity": 0,
       "rectangular_selection_flag": true,
       "reticle_color": "rgb(178, 50, 178)",
       "reticle_size": 22,
       "show_catalog": true,
       "show_context_menu": true,
       "show_coo_grid": false,
       "show_frame": true,
       "show_fullscreen_control": false,
       "show_goto_control": true,
       "show_layers_control": true,
       "show_reticle": true,
       "show_share_control": false,
       "show_simbad_pointer_control": true,
       "show_zoom_control": true,
       "stc_string": "",
       "survey": "P/DSS2/color",
       "table_columns": [
        [
         1,
         "1757132",
         7608,
         42.48899841308594,
         3.298799967454795e-14,
         7.765999871681779e-16,
         3.2987999886306186e-16,
         8,
         211.1,
         1
        ],
        [
         2,
         "1757132",
         7624,
         55.70100021362305,
         3.3175000832379176e-14,
         6.217699877066171e-16,
         3.3175000938258294e-16,
         8,
         211.1,
         1
        ],
        [
         3,
         "1757132",
         7640,
         67.34300231933594,
         3.196099933105642e-14,
         5.155499914781189e-16,
         3.196099890753995e-16,
         8,
         211.1,
         1
        ],
        [
         4,
         "1757132",
         7656,
         83.2770004272461,
         3.1485000696017396e-14,
         4.2738000265781385e-16,
         3.1485000801896514e-16,
         8,
         211.1,
         1
        ],
        [
         5,
         "1757132",
         7672,
         108.45999908447266,
         3.169599999131023e-14,
         3.4893998718173733e-16,
         3.169599935603552e-16,
         8,
         211.1,
         1
        ],
        [
         6,
         "1757132",
         7688,
         142.10000610351562,
         3.182499972104527e-14,
         2.856200127399625e-16,
         3.182499982692439e-16,
         8,
         211.1,
         1
        ],
        [
         7,
         "1757132",
         7704,
         183.4600067138672,
         3.21299993446926e-14,
         2.3906999363462235e-16,
         3.2130000509362903e-16,
         8,
         211.1,
         1
        ],
        [
         8,
         "1757132",
         7720,
         222.55999755859375,
         3.195000145526927e-14,
         2.072299986775536e-16,
         3.1950000714115444e-16,
         8,
         211.1,
         1
        ],
        [
         9,
         "1757132",
         7736,
         253.0500030517578,
         3.1498000957691855e-14,
         1.8742999473055349e-16,
         3.1498000110658907e-16,
         8,
         211.1,
         1
        ],
        [
         10,
         "1757132",
         7752,
         275.17999267578125,
         3.10060001762133e-14,
         1.745300005812257e-16,
         3.1006001023246247e-16,
         8,
         211.1,
         1
        ]
       ],
       "table_flag": false,
       "table_keys": [
        "recno",
        "ID",
        "Wave",
        "Net",
        "Flux",
        "Stat-err",
        "Sys-err",
        "Nobs",
        "Exp",
        "Qual"
       ],
       "target": "76.446253 52.849186",
       "thumbnail_flag": true,
       "votable_URL": "",
       "votable_from_URL_flag": true,
       "votable_options": {}
      }
     },
     "b614942c85f143f29cb69fd61d31fc08": {
      "model_module": "@jupyter-widgets/base",
      "model_module_version": "2.0.0",
      "model_name": "LayoutModel",
      "state": {}
     }
    },
    "version_major": 2,
    "version_minor": 0
   }
  }
 },
 "nbformat": 4,
 "nbformat_minor": 5
}
